{
  "nbformat": 4,
  "nbformat_minor": 0,
  "metadata": {
    "colab": {
      "provenance": []
    },
    "kernelspec": {
      "name": "python3",
      "display_name": "Python 3"
    },
    "language_info": {
      "name": "python"
    }
  },
  "cells": [
    {
      "cell_type": "code",
      "source": [
        "!pip install scikit-optimize"
      ],
      "metadata": {
        "id": "7vw3aEgQ6Ja9"
      },
      "execution_count": null,
      "outputs": []
    },
    {
      "cell_type": "code",
      "execution_count": null,
      "metadata": {
        "id": "7Q9hohTBaoPa"
      },
      "outputs": [],
      "source": [
        "from google.colab import drive\n",
        "drive.mount('/content/drive')\n"
      ]
    },
    {
      "cell_type": "code",
      "source": [
        "import numpy as np\n",
        "import pandas as pd\n",
        "import matplotlib.pyplot as plt\n",
        "import warnings\n",
        "from skopt import gp_minimize\n",
        "from skopt.learning import GaussianProcessRegressor\n",
        "from skopt.space import Categorical\n",
        "from skopt.plots import plot_convergence"
      ],
      "metadata": {
        "id": "v8JpMyx-a4iR"
      },
      "execution_count": null,
      "outputs": []
    },
    {
      "cell_type": "code",
      "source": [
        "# Suppress warnings\n",
        "warnings.filterwarnings(\"ignore\")\n",
        "\n",
        "# Load dataset from Google Drive\n",
        "file_path = \"\"#File path to the unique set of parameters\n",
        "df = pd.read_csv(file_path, encoding='ISO-8859-1')\n",
        "\n",
        "# Normalize 'Coverage Percentage' and 'Average Size um'\n",
        "df[\"Coverage Percentage\"] = (df[\"Coverage Percentage\"] - df[\"Coverage Percentage\"].min()) / \\\n",
        "                            (df[\"Coverage Percentage\"].max() - df[\"Coverage Percentage\"].min())\n",
        "\n",
        "df[\"Average Size um\"] = (df[\"Average Size um\"] - df[\"Average Size um\"].min()) / \\\n",
        "                        (df[\"Average Size um\"].max() - df[\"Average Size um\"].min())"
      ],
      "metadata": {
        "id": "02AkKTkhbKEx"
      },
      "execution_count": null,
      "outputs": []
    },
    {
      "cell_type": "code",
      "source": [
        "# Extract all valid parameter combinations\n",
        "valid_combinations = list(\n",
        "    zip(\n",
        "        df[\"Spincoating Speed\"],\n",
        "        df[\"Substrates preheated temperature\"],\n",
        "        df[\"Solution preheated temperature\"],\n",
        "        df[\"Composition\"],\n",
        "        df[\"Antisolvent Used\"]\n",
        "    )\n",
        ")\n",
        "\n",
        "# Define categorical search space (only valid values)\n",
        "search_space = [\n",
        "    Categorical(df[\"Spincoating Speed\"].unique().tolist(), name=\"Spincoating Speed\"),\n",
        "    Categorical(df[\"Substrates preheated temperature\"].unique().tolist(), name=\"Substrates preheated temperature\"),\n",
        "    Categorical(df[\"Solution preheated temperature\"].unique().tolist(), name=\"Solution preheated temperature\"),\n",
        "    Categorical(df[\"Composition\"].unique().tolist(), name=\"Composition\"),\n",
        "    Categorical(df[\"Antisolvent Used\"].unique().tolist(), name=\"Antisolvent Used\"),\n",
        "]\n"
      ],
      "metadata": {
        "id": "odwpK_7_bNI6"
      },
      "execution_count": null,
      "outputs": []
    },
    {
      "cell_type": "code",
      "source": [
        "# Objective function (directly receives positional arguments)\n",
        "def objective(params):\n",
        "    spincoating_speed, substrate_temp, solution_temp, composition, antisolvent = params\n",
        "\n",
        "    param_tuple = (spincoating_speed, substrate_temp, solution_temp, composition, antisolvent)\n",
        "\n",
        "    if param_tuple not in valid_combinations:\n",
        "        return 1e6  # Large penalty to ignore this selection\n",
        "\n",
        "    # Find matching row\n",
        "    row = df[\n",
        "        (df[\"Spincoating Speed\"] == spincoating_speed) &\n",
        "        (df[\"Substrates preheated temperature\"] == substrate_temp) &\n",
        "        (df[\"Solution preheated temperature\"] == solution_temp) &\n",
        "        (df[\"Composition\"] == composition) &\n",
        "        (df[\"Antisolvent Used\"] == antisolvent)\n",
        "    ]\n",
        "\n",
        "    # Compute weighted objective: 70% maximizing grain size, 30% minimizing defect percentage\n",
        "    defect_percentage = row[\"Coverage Percentage\"].values[0]\n",
        "    grain_size = row[\"Average Size um\"].values[0]\n",
        "\n",
        "    objective_value = -((0.7 * grain_size) - (0.3 * defect_percentage))  # Minimize for gp_minimize\n",
        "    return objective_value\n"
      ],
      "metadata": {
        "id": "4pkqJwq9bPAX"
      },
      "execution_count": null,
      "outputs": []
    },
    {
      "cell_type": "code",
      "source": [
        "# Custom function to generate only valid random samples\n",
        "def generate_valid_samples(n_samples):\n",
        "    return [valid_combinations[np.random.randint(len(valid_combinations))] for _ in range(n_samples)]\n"
      ],
      "metadata": {
        "id": "ZVsV7Mk1bR24"
      },
      "execution_count": null,
      "outputs": []
    },
    {
      "cell_type": "code",
      "source": [
        "# Bayesian Optimization Loop (ensuring only valid selections count)\n",
        "iterations = 20  # We want exactly 20 valid iterations\n",
        "n_initial = 5\n",
        "\n",
        "# Define surrogate model (Gaussian Process)\n",
        "gp = GaussianProcessRegressor()\n",
        "\n",
        "acq_functions = [\"EI\", \"PI\", \"LCB\", \"TS\"]  # Added TS\n",
        "results = []\n",
        "csv_data = []  # Store data for saving as CSV\n",
        "\n",
        "for acq_name in acq_functions:\n",
        "    valid_results = []  # Track valid function evaluations\n",
        "    valid_x_iters = []  # Track valid parameter selections\n",
        "\n",
        "    # Get initial valid samples\n",
        "    initial_samples = generate_valid_samples(n_initial)\n",
        "\n",
        "    valid_iterations = 0  # Count only valid iterations\n",
        "    while valid_iterations < iterations:\n",
        "        # Select a valid random sample from the dataset\n",
        "        candidate_params = generate_valid_samples(1)[0]  # Returns a tuple\n",
        "\n",
        "        # Evaluate the objective function\n",
        "        y = objective(candidate_params)\n",
        "\n",
        "        # If the function returns a valid value, count it\n",
        "        if y < 1e6:\n",
        "            valid_results.append(y)\n",
        "            valid_x_iters.append(candidate_params)\n",
        "            valid_iterations += 1  # Count valid selection\n",
        "\n",
        "            # Save data for CSV\n",
        "            csv_data.append([valid_iterations, acq_name, y] + list(candidate_params))\n",
        "\n",
        "    # Store final results\n",
        "    results.append({\"acquisition_function\": acq_name, \"x_iters\": valid_x_iters, \"func_vals\": valid_results})\n",
        "\n"
      ],
      "metadata": {
        "id": "nl9lym0xbTiv"
      },
      "execution_count": null,
      "outputs": []
    },
    {
      "cell_type": "code",
      "source": [
        "# Convert results to a DataFrame and save as CSV\n",
        "csv_df = pd.DataFrame(csv_data, columns=[\"Iteration\", \"Acquisition Function\", \"Objective Value\",\n",
        "                                         \"Spincoating Speed\", \"Substrates preheated temperature\",\n",
        "                                         \"Solution preheated temperature\", \"Composition\", \"Antisolvent Used\"])\n",
        "csv_file_path = \"/content/drive/MyDrive/DAISY2.0 Data/Bayesian_Optimization_Results.csv\"\n",
        "csv_df.to_csv(csv_file_path, index=False)\n",
        "\n",
        "print(f\"Results saved to {csv_file_path}\")\n"
      ],
      "metadata": {
        "id": "Ys4S48n36obx"
      },
      "execution_count": null,
      "outputs": []
    },
    {
      "cell_type": "code",
      "source": [
        "# Plot optimization progress (only valid iterations)\n",
        "plt.figure(figsize=(10, 6))\n",
        "for result in results:\n",
        "    acq_name = result[\"acquisition_function\"]\n",
        "    plt.plot(range(1, len(result[\"func_vals\"]) + 1), result[\"func_vals\"], label=acq_name)\n",
        "\n",
        "plt.xlabel(\"Valid Iteration\")\n",
        "plt.ylabel(\"Objective Function Value\")\n",
        "plt.title(\"Bayesian Optimization Progress (Valid Selections Only)\")\n",
        "plt.legend()\n",
        "plt.grid()\n",
        "plt.show()"
      ],
      "metadata": {
        "id": "6m8uHtg96qAW"
      },
      "execution_count": null,
      "outputs": []
    }
  ]
}